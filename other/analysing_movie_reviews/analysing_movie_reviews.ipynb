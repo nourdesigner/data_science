{
 "cells": [
  {
   "cell_type": "code",
   "execution_count": 1,
   "metadata": {
    "collapsed": false
   },
   "outputs": [
    {
     "name": "stdout",
     "output_type": "stream",
     "text": [
      "Index(['FILM', 'RottenTomatoes', 'RottenTomatoes_User', 'Metacritic', 'Metacritic_User', 'IMDB', 'Fandango_Stars', 'Fandango_Ratingvalue', 'RT_norm', 'RT_user_norm', 'Metacritic_norm', 'Metacritic_user_nom', 'IMDB_norm', 'RT_norm_round', 'RT_user_norm_round', 'Metacritic_norm_round', 'Metacritic_user_norm_round', 'IMDB_norm_round', 'Metacritic_user_vote_count', 'IMDB_user_vote_count', 'Fandango_votes', 'Fandango_Difference'], dtype='object')\n",
      "(146, 22)\n"
     ]
    },
    {
     "data": {
      "image/png": "[encoded data removed]",
      "text/plain": [
       "<matplotlib.figure.Figure at 0x7f378c0856d8>"
      ]
     },
     "metadata": {},
     "output_type": "display_data"
    },
    {
     "data": {
      "image/png": "[encoded data removed]",
      "text/plain": [
       "<matplotlib.figure.Figure at 0x7f369a770d30>"
      ]
     },
     "metadata": {},
     "output_type": "display_data"
    }
   ],
   "source": [
    "import pandas as pd\n",
    "import numpy as np\n",
    "import matplotlib.pyplot as plt\n",
    "%matplotlib inline\n",
    "import seaborn as sns\n",
    "sns.set_style('white')\n",
    "\n",
    "movies = pd.read_csv('fandango_score_comparison.csv')\n",
    "dimensions = movies.shape\n",
    "cols = movies.columns\n",
    "print(cols)\n",
    "print(dimensions)\n",
    "plt.hist(movies['Fandango_Stars'])\n",
    "plt.title('Fandango Stars')\n",
    "plt.show()\n",
    "plt.hist(movies['Metacritic_norm_round'])\n",
    "plt.title('Metacritic norm round')\n",
    "plt.show()"
   ]
  },
  {
   "cell_type": "markdown",
   "metadata": {},
   "source": [
    "### Fandango Vs Metacrilic\n",
    "The Fandango ratings tend to be around 4 and 4.5 and the Metacritic ratings tend to me between 3 and 4. On average, Metacrilic tend to score less than Fandango."
   ]
  },
  {
   "cell_type": "code",
   "execution_count": 2,
   "metadata": {
    "collapsed": false
   },
   "outputs": [
    {
     "name": "stdout",
     "output_type": "stream",
     "text": [
      "4.08904109589\n",
      "4.0\n",
      "0.540385977979\n",
      "2.97260273973\n",
      "3.0\n",
      "0.990960561374\n"
     ]
    }
   ],
   "source": [
    "fan_mean = movies['Fandango_Stars'].mean()\n",
    "met_mean = movies['Metacritic_norm_round'].mean()\n",
    "fan_median = movies['Fandango_Stars'].median()\n",
    "met_median = movies['Metacritic_norm_round'].median()\n",
    "fan_std = movies['Fandango_Stars'].std()\n",
    "met_std = movies['Metacritic_norm_round'].std()\n",
    "\n",
    "print(fan_mean);print(fan_median);print(fan_std)\n",
    "print(met_mean);print(met_median);print(met_std)"
   ]
  },
  {
   "cell_type": "code",
   "execution_count": 3,
   "metadata": {
    "collapsed": false
   },
   "outputs": [
    {
     "data": {
      "image/png": "[encoded data removed]",
      "text/plain": [
       "<matplotlib.figure.Figure at 0x7f378c06ce10>"
      ]
     },
     "metadata": {},
     "output_type": "display_data"
    }
   ],
   "source": [
    "plt.scatter(movies['Metacritic_norm_round'], movies['Fandango_Stars'])\n",
    "plt.xlabel('Metacritic')\n",
    "plt.ylabel('Fandango')\n",
    "plt.show()"
   ]
  },
  {
   "cell_type": "code",
   "execution_count": 4,
   "metadata": {
    "collapsed": false,
    "scrolled": true
   },
   "outputs": [
    {
     "data": {
      "text/html": [
       "<div style=\"max-height:1000px;max-width:1500px;overflow:auto;\">\n",
       "<table border=\"1\" class=\"dataframe\">\n",
       "  <thead>\n",
       "    <tr style=\"text-align: right;\">\n",
       "      <th></th>\n",
       "      <th>FILM</th>\n",
       "      <th>RottenTomatoes</th>\n",
       "      <th>RottenTomatoes_User</th>\n",
       "      <th>Metacritic</th>\n",
       "      <th>Metacritic_User</th>\n",
       "      <th>IMDB</th>\n",
       "      <th>Fandango_Stars</th>\n",
       "      <th>Fandango_Ratingvalue</th>\n",
       "      <th>RT_norm</th>\n",
       "      <th>RT_user_norm</th>\n",
       "      <th>...</th>\n",
       "      <th>RT_norm_round</th>\n",
       "      <th>RT_user_norm_round</th>\n",
       "      <th>Metacritic_norm_round</th>\n",
       "      <th>Metacritic_user_norm_round</th>\n",
       "      <th>IMDB_norm_round</th>\n",
       "      <th>Metacritic_user_vote_count</th>\n",
       "      <th>IMDB_user_vote_count</th>\n",
       "      <th>Fandango_votes</th>\n",
       "      <th>Fandango_Difference</th>\n",
       "      <th>fm_diff</th>\n",
       "    </tr>\n",
       "  </thead>\n",
       "  <tbody>\n",
       "    <tr>\n",
       "      <th>3  </th>\n",
       "      <td>  Do You Believe? (2015)</td>\n",
       "      <td> 18</td>\n",
       "      <td> 84</td>\n",
       "      <td> 22</td>\n",
       "      <td> 4.7</td>\n",
       "      <td> 5.4</td>\n",
       "      <td> 5.0</td>\n",
       "      <td> 4.5</td>\n",
       "      <td> 0.90</td>\n",
       "      <td> 4.20</td>\n",
       "      <td>...</td>\n",
       "      <td> 1.0</td>\n",
       "      <td> 4.0</td>\n",
       "      <td> 1.0</td>\n",
       "      <td> 2.5</td>\n",
       "      <td> 2.5</td>\n",
       "      <td>  31</td>\n",
       "      <td>  3136</td>\n",
       "      <td> 1793</td>\n",
       "      <td> 0.5</td>\n",
       "      <td> 4</td>\n",
       "    </tr>\n",
       "    <tr>\n",
       "      <th>85 </th>\n",
       "      <td>       Little Boy (2015)</td>\n",
       "      <td> 20</td>\n",
       "      <td> 81</td>\n",
       "      <td> 30</td>\n",
       "      <td> 5.9</td>\n",
       "      <td> 7.4</td>\n",
       "      <td> 4.5</td>\n",
       "      <td> 4.3</td>\n",
       "      <td> 1.00</td>\n",
       "      <td> 4.05</td>\n",
       "      <td>...</td>\n",
       "      <td> 1.0</td>\n",
       "      <td> 4.0</td>\n",
       "      <td> 1.5</td>\n",
       "      <td> 3.0</td>\n",
       "      <td> 3.5</td>\n",
       "      <td>  38</td>\n",
       "      <td>  5927</td>\n",
       "      <td>  811</td>\n",
       "      <td> 0.2</td>\n",
       "      <td> 3</td>\n",
       "    </tr>\n",
       "    <tr>\n",
       "      <th>47 </th>\n",
       "      <td>            Annie (2014)</td>\n",
       "      <td> 27</td>\n",
       "      <td> 61</td>\n",
       "      <td> 33</td>\n",
       "      <td> 4.8</td>\n",
       "      <td> 5.2</td>\n",
       "      <td> 4.5</td>\n",
       "      <td> 4.2</td>\n",
       "      <td> 1.35</td>\n",
       "      <td> 3.05</td>\n",
       "      <td>...</td>\n",
       "      <td> 1.5</td>\n",
       "      <td> 3.0</td>\n",
       "      <td> 1.5</td>\n",
       "      <td> 2.5</td>\n",
       "      <td> 2.5</td>\n",
       "      <td> 108</td>\n",
       "      <td> 19222</td>\n",
       "      <td> 6835</td>\n",
       "      <td> 0.3</td>\n",
       "      <td> 3</td>\n",
       "    </tr>\n",
       "    <tr>\n",
       "      <th>19 </th>\n",
       "      <td>           Pixels (2015)</td>\n",
       "      <td> 17</td>\n",
       "      <td> 54</td>\n",
       "      <td> 27</td>\n",
       "      <td> 5.3</td>\n",
       "      <td> 5.6</td>\n",
       "      <td> 4.5</td>\n",
       "      <td> 4.1</td>\n",
       "      <td> 0.85</td>\n",
       "      <td> 2.70</td>\n",
       "      <td>...</td>\n",
       "      <td> 1.0</td>\n",
       "      <td> 2.5</td>\n",
       "      <td> 1.5</td>\n",
       "      <td> 2.5</td>\n",
       "      <td> 3.0</td>\n",
       "      <td> 246</td>\n",
       "      <td> 19521</td>\n",
       "      <td> 3886</td>\n",
       "      <td> 0.4</td>\n",
       "      <td> 3</td>\n",
       "    </tr>\n",
       "    <tr>\n",
       "      <th>134</th>\n",
       "      <td> The Longest Ride (2015)</td>\n",
       "      <td> 31</td>\n",
       "      <td> 73</td>\n",
       "      <td> 33</td>\n",
       "      <td> 4.8</td>\n",
       "      <td> 7.2</td>\n",
       "      <td> 4.5</td>\n",
       "      <td> 4.5</td>\n",
       "      <td> 1.55</td>\n",
       "      <td> 3.65</td>\n",
       "      <td>...</td>\n",
       "      <td> 1.5</td>\n",
       "      <td> 3.5</td>\n",
       "      <td> 1.5</td>\n",
       "      <td> 2.5</td>\n",
       "      <td> 3.5</td>\n",
       "      <td>  49</td>\n",
       "      <td> 25214</td>\n",
       "      <td> 2603</td>\n",
       "      <td> 0.0</td>\n",
       "      <td> 3</td>\n",
       "    </tr>\n",
       "  </tbody>\n",
       "</table>\n",
       "<p>5 rows × 23 columns</p>\n",
       "</div>"
      ],
      "text/plain": [
       "                        FILM  RottenTomatoes  RottenTomatoes_User  Metacritic  \\\n",
       "3     Do You Believe? (2015)              18                   84          22   \n",
       "85         Little Boy (2015)              20                   81          30   \n",
       "47              Annie (2014)              27                   61          33   \n",
       "19             Pixels (2015)              17                   54          27   \n",
       "134  The Longest Ride (2015)              31                   73          33   \n",
       "\n",
       "     Metacritic_User  IMDB  Fandango_Stars  Fandango_Ratingvalue  RT_norm  \\\n",
       "3                4.7   5.4             5.0                   4.5     0.90   \n",
       "85               5.9   7.4             4.5                   4.3     1.00   \n",
       "47               4.8   5.2             4.5                   4.2     1.35   \n",
       "19               5.3   5.6             4.5                   4.1     0.85   \n",
       "134              4.8   7.2             4.5                   4.5     1.55   \n",
       "\n",
       "     RT_user_norm   ...     RT_norm_round  RT_user_norm_round  \\\n",
       "3            4.20   ...               1.0                 4.0   \n",
       "85           4.05   ...               1.0                 4.0   \n",
       "47           3.05   ...               1.5                 3.0   \n",
       "19           2.70   ...               1.0                 2.5   \n",
       "134          3.65   ...               1.5                 3.5   \n",
       "\n",
       "     Metacritic_norm_round  Metacritic_user_norm_round  IMDB_norm_round  \\\n",
       "3                      1.0                         2.5              2.5   \n",
       "85                     1.5                         3.0              3.5   \n",
       "47                     1.5                         2.5              2.5   \n",
       "19                     1.5                         2.5              3.0   \n",
       "134                    1.5                         2.5              3.5   \n",
       "\n",
       "     Metacritic_user_vote_count  IMDB_user_vote_count  Fandango_votes  \\\n",
       "3                            31                  3136            1793   \n",
       "85                           38                  5927             811   \n",
       "47                          108                 19222            6835   \n",
       "19                          246                 19521            3886   \n",
       "134                          49                 25214            2603   \n",
       "\n",
       "     Fandango_Difference  fm_diff  \n",
       "3                    0.5        4  \n",
       "85                   0.2        3  \n",
       "47                   0.3        3  \n",
       "19                   0.4        3  \n",
       "134                  0.0        3  \n",
       "\n",
       "[5 rows x 23 columns]"
      ]
     },
     "execution_count": 4,
     "metadata": {},
     "output_type": "execute_result"
    }
   ],
   "source": [
    "movies['fm_diff'] = np.absolute(movies['Metacritic_norm_round'] - movies['Fandango_Stars'])\n",
    "movies.sort('fm_diff', ascending=False).head()"
   ]
  },
  {
   "cell_type": "code",
   "execution_count": 5,
   "metadata": {
    "collapsed": true
   },
   "outputs": [],
   "source": [
    "from scipy.stats import pearsonr, linregress\n"
   ]
  },
  {
   "cell_type": "code",
   "execution_count": 6,
   "metadata": {
    "collapsed": false
   },
   "outputs": [],
   "source": [
    "r_value, p_value = pearsonr(movies['Metacritic_norm_round'], movies['Fandango_Stars'])\n"
   ]
  },
  {
   "cell_type": "markdown",
   "metadata": {},
   "source": [
    "### Fandango and Metacritic Correlation\n",
    "The low correlation between Fandango and Metacritic scores indicates that Fandango scores aren't just inflated, they are fundamentally different. For whatever reason, it appears like Fandango both inflates scores overall, and inflates scores differently depending on the movie."
   ]
  },
  {
   "cell_type": "code",
   "execution_count": 7,
   "metadata": {
    "collapsed": false
   },
   "outputs": [
    {
     "data": {
      "text/plain": [
       "4.0917071528212041"
      ]
     },
     "execution_count": 7,
     "metadata": {},
     "output_type": "execute_result"
    }
   ],
   "source": [
    "slope, intercept, r_value, p_value, stderror = linregress(movies['Metacritic_norm_round'], movies['Fandango_Stars'])\n",
    "\n",
    "def predict_score(x_value):\n",
    "    return slope * x_value + intercept\n",
    "predict_score(3.0)"
   ]
  },
  {
   "cell_type": "code",
   "execution_count": 8,
   "metadata": {
    "collapsed": false
   },
   "outputs": [
    {
     "data": {
      "text/plain": [
       "4.1890182307951322"
      ]
     },
     "execution_count": 8,
     "metadata": {},
     "output_type": "execute_result"
    }
   ],
   "source": [
    "predict_score(4.0)"
   ]
  },
  {
   "cell_type": "code",
   "execution_count": 10,
   "metadata": {
    "collapsed": false
   },
   "outputs": [
    {
     "data": {
      "image/png": "[encoded data removed]",
      "text/plain": [
       "<matplotlib.figure.Figure at 0x7f369a61fd68>"
      ]
     },
     "metadata": {},
     "output_type": "display_data"
    }
   ],
   "source": [
    "plt.scatter(movies['Metacritic_norm_round'], movies['Fandango_Stars'])\n",
    "x = [i for i in range(0,6)]\n",
    "y = [predict_score(i) for i in x]\n",
    "plt.plot(x,y,color='red')\n",
    "plt.show()"
   ]
  },
  {
   "cell_type": "code",
   "execution_count": null,
   "metadata": {
    "collapsed": true
   },
   "outputs": [],
   "source": []
  }
 ],
 "metadata": {
  "kernelspec": {
   "display_name": "Python 3",
   "language": "python",
   "name": "python3"
  },
  "language_info": {
   "codemirror_mode": {
    "name": "ipython",
    "version": 3
   },
   "file_extension": ".py",
   "mimetype": "text/x-python",
   "name": "python",
   "nbconvert_exporter": "python",
   "pygments_lexer": "ipython3",
   "version": "3.4.3"
  }
 },
 "nbformat": 4,
 "nbformat_minor": 0
}

